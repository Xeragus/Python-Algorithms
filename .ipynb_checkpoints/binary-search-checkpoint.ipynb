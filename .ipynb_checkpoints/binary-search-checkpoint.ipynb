{
 "cells": [
  {
   "cell_type": "code",
   "execution_count": 33,
   "metadata": {},
   "outputs": [
    {
     "name": "stdout",
     "output_type": "stream",
     "text": [
      "Value 9 found at index 8\n"
     ]
    }
   ],
   "source": [
    "arr = [1,2,3,4,5,6,7,8,9,10]\n",
    "key = 9\n",
    "\n",
    "def binary_search(arr, key, left, right):\n",
    "    while (left <= right):\n",
    "        middle_index = (left + right) //2\n",
    "        \n",
    "        if(arr[middle_index] == key):\n",
    "            print('Value {} found at index {}'.format(key, middle_index))\n",
    "            return\n",
    "        elif(key < arr[middle_index]):\n",
    "            right = middle_index - 1\n",
    "        else:\n",
    "            left = middle_index + 1\n",
    "        \n",
    "    print('Value not found')\n",
    "    \n",
    "binary_search(arr, key, 0, len(arr) - 1)"
   ]
  },
  {
   "cell_type": "code",
   "execution_count": null,
   "metadata": {},
   "outputs": [],
   "source": []
  }
 ],
 "metadata": {
  "kernelspec": {
   "display_name": "Python 3",
   "language": "python",
   "name": "python3"
  },
  "language_info": {
   "codemirror_mode": {
    "name": "ipython",
    "version": 3
   },
   "file_extension": ".py",
   "mimetype": "text/x-python",
   "name": "python",
   "nbconvert_exporter": "python",
   "pygments_lexer": "ipython3",
   "version": "3.7.3"
  }
 },
 "nbformat": 4,
 "nbformat_minor": 2
}
