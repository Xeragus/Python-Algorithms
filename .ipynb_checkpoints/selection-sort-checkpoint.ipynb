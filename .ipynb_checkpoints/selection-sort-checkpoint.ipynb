{
 "cells": [
  {
   "cell_type": "code",
   "execution_count": 8,
   "metadata": {},
   "outputs": [
    {
     "data": {
      "text/plain": [
       "[1, 3, 3, 4, 5, 7, 9, 10, 12]"
      ]
     },
     "execution_count": 8,
     "metadata": {},
     "output_type": "execute_result"
    }
   ],
   "source": [
    "arr = [3, 1, 5, 7, 4, 3, 12, 10, 9]\n",
    "\n",
    "def selection_sort(arr):\n",
    "    left_index = 0\n",
    "    \n",
    "    while left_index < len(arr) - 1:\n",
    "        right_index = left_index + 1\n",
    "        \n",
    "        while(right_index < len(arr)):\n",
    "            if (arr[left_index] > arr[right_index]):\n",
    "                temp = arr[left_index]\n",
    "                arr[left_index] = arr[right_index]\n",
    "                arr[right_index] = temp\n",
    "                \n",
    "            right_index += 1\n",
    "        \n",
    "        left_index += 1\n",
    "        \n",
    "    return arr\n",
    "            \n",
    "        \n",
    "selection_sort(arr)"
   ]
  },
  {
   "cell_type": "code",
   "execution_count": null,
   "metadata": {},
   "outputs": [],
   "source": []
  }
 ],
 "metadata": {
  "kernelspec": {
   "display_name": "Python 3",
   "language": "python",
   "name": "python3"
  },
  "language_info": {
   "codemirror_mode": {
    "name": "ipython",
    "version": 3
   },
   "file_extension": ".py",
   "mimetype": "text/x-python",
   "name": "python",
   "nbconvert_exporter": "python",
   "pygments_lexer": "ipython3",
   "version": "3.7.3"
  }
 },
 "nbformat": 4,
 "nbformat_minor": 2
}
