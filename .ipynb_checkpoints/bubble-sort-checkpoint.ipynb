{
 "cells": [
  {
   "cell_type": "code",
   "execution_count": 5,
   "metadata": {},
   "outputs": [
    {
     "data": {
      "text/plain": [
       "[0, 1, 3, 3, 4, 5, 7, 9, 10, 12]"
      ]
     },
     "execution_count": 5,
     "metadata": {},
     "output_type": "execute_result"
    }
   ],
   "source": [
    "arr = [0, 3, 1, 5, 7, 4, 3, 12, 10, 9]\n",
    "\n",
    "def bubble_sort(arr):\n",
    "    left_index = 0\n",
    "    \n",
    "    for left_index in range(0, len(arr)):\n",
    "        for right_index in range(0, len(arr) - left_index - 1):\n",
    "            if (arr[right_index] > arr[right_index + 1]):\n",
    "                arr[right_index], arr[right_index+1] = arr[right_index+1], arr[right_index] \n",
    "        \n",
    "    return arr\n",
    "            \n",
    "        \n",
    "bubble_sort(arr)"
   ]
  },
  {
   "cell_type": "code",
   "execution_count": null,
   "metadata": {},
   "outputs": [],
   "source": []
  }
 ],
 "metadata": {
  "kernelspec": {
   "display_name": "Python 3",
   "language": "python",
   "name": "python3"
  },
  "language_info": {
   "codemirror_mode": {
    "name": "ipython",
    "version": 3
   },
   "file_extension": ".py",
   "mimetype": "text/x-python",
   "name": "python",
   "nbconvert_exporter": "python",
   "pygments_lexer": "ipython3",
   "version": "3.7.3"
  }
 },
 "nbformat": 4,
 "nbformat_minor": 2
}
