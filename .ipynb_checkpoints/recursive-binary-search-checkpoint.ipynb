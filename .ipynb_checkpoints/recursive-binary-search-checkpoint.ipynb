{
 "cells": [
  {
   "cell_type": "code",
   "execution_count": 2,
   "metadata": {},
   "outputs": [
    {
     "name": "stdout",
     "output_type": "stream",
     "text": [
      "The value 9 is on index 8\n"
     ]
    }
   ],
   "source": [
    "arr = [1,2,3,4,5,6,7,8,9,10]\n",
    "key = 9\n",
    "\n",
    "def recursive_binary_search(arr, key, start, end):\n",
    "    #print(arr)\n",
    "    #print(start, end)\n",
    "    \n",
    "    if start >= end:\n",
    "        print('Value not found')\n",
    "        return -1\n",
    "    \n",
    "    middle = (start + end) // 2\n",
    "    \n",
    "    if (arr[middle] == key):\n",
    "        print('The value {} is on index {}'.format(key, middle))\n",
    "        return middle\n",
    "    elif (arr[middle] < key):\n",
    "        recursive_binary_search(arr, key, middle + 1, len(arr))\n",
    "    else:\n",
    "        recursive_binary_search(arr, key, 0, middle)\n",
    "    \n",
    "    \n",
    "recursive_binary_search(arr, key, 0, len(arr))"
   ]
  },
  {
   "cell_type": "code",
   "execution_count": null,
   "metadata": {},
   "outputs": [],
   "source": []
  }
 ],
 "metadata": {
  "kernelspec": {
   "display_name": "Python 3",
   "language": "python",
   "name": "python3"
  },
  "language_info": {
   "codemirror_mode": {
    "name": "ipython",
    "version": 3
   },
   "file_extension": ".py",
   "mimetype": "text/x-python",
   "name": "python",
   "nbconvert_exporter": "python",
   "pygments_lexer": "ipython3",
   "version": "3.7.3"
  }
 },
 "nbformat": 4,
 "nbformat_minor": 2
}
