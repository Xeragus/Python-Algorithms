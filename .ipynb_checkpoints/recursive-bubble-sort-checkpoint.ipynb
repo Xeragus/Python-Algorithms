{
 "cells": [
  {
   "cell_type": "code",
   "execution_count": 20,
   "metadata": {},
   "outputs": [
    {
     "name": "stdout",
     "output_type": "stream",
     "text": [
      "[0, 1, 3, 3, 4, 5, 7, 9, 10, 12]\n"
     ]
    }
   ],
   "source": [
    "arr = [0, 3, 1, 5, 7, 4, 3, 12, 10, 9]\n",
    "\n",
    "def bubble_sort(arr):\n",
    "    count = 0\n",
    "    \n",
    "    for i in range(0, len(arr) - 1):\n",
    "        if (arr[i] > arr[i + 1]):\n",
    "            arr[i], arr[i+1] = arr[i+1], arr[i]\n",
    "            count += 1\n",
    "            \n",
    "    if (count == 0):\n",
    "        return arr\n",
    "    else:\n",
    "        bubble_sort(arr)\n",
    "        \n",
    "bubble_sort(arr)\n",
    "\n",
    "print(bubble_sort(arr))"
   ]
  },
  {
   "cell_type": "code",
   "execution_count": null,
   "metadata": {},
   "outputs": [],
   "source": []
  }
 ],
 "metadata": {
  "kernelspec": {
   "display_name": "Python 3",
   "language": "python",
   "name": "python3"
  },
  "language_info": {
   "codemirror_mode": {
    "name": "ipython",
    "version": 3
   },
   "file_extension": ".py",
   "mimetype": "text/x-python",
   "name": "python",
   "nbconvert_exporter": "python",
   "pygments_lexer": "ipython3",
   "version": "3.7.3"
  }
 },
 "nbformat": 4,
 "nbformat_minor": 2
}
