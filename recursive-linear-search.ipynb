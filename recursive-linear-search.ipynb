{
 "cells": [
  {
   "cell_type": "code",
   "execution_count": 25,
   "metadata": {},
   "outputs": [
    {
     "name": "stdout",
     "output_type": "stream",
     "text": [
      "Value 3 found at index 2\n"
     ]
    }
   ],
   "source": [
    "arr = [1,2,3,4,5,6,7,8,9,10]\n",
    "key = 3\n",
    "\n",
    "def recursive_linear_search(arr, key, index):\n",
    "    #print(arr)\n",
    "    \n",
    "    if (len(arr) == 1):\n",
    "        print('Value not found in array')\n",
    "        return -1\n",
    "    elif (arr[0] == key):\n",
    "        print('Value {} found at index {}'.format(key, index))\n",
    "    else:\n",
    "        index+= 1\n",
    "        recursive_linear_search(arr[1:], key, index)\n",
    "        \n",
    "recursive_linear_search(arr, key, 0)"
   ]
  },
  {
   "cell_type": "code",
   "execution_count": null,
   "metadata": {},
   "outputs": [],
   "source": []
  }
 ],
 "metadata": {
  "kernelspec": {
   "display_name": "Python 3",
   "language": "python",
   "name": "python3"
  },
  "language_info": {
   "codemirror_mode": {
    "name": "ipython",
    "version": 3
   },
   "file_extension": ".py",
   "mimetype": "text/x-python",
   "name": "python",
   "nbconvert_exporter": "python",
   "pygments_lexer": "ipython3",
   "version": "3.7.3"
  }
 },
 "nbformat": 4,
 "nbformat_minor": 2
}
